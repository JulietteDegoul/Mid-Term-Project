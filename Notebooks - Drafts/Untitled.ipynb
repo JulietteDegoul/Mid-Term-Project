{
 "cells": [
  {
   "cell_type": "code",
   "execution_count": 28,
   "id": "af1303a2",
   "metadata": {},
   "outputs": [],
   "source": [
    "import pandas as pd\n",
    "import numpy as np"
   ]
  },
  {
   "cell_type": "code",
   "execution_count": 12,
   "id": "7ab08aeb",
   "metadata": {},
   "outputs": [],
   "source": [
    "df = pd.read_csv('Levels_Fyi_Salary_Data.csv')"
   ]
  },
  {
   "cell_type": "code",
   "execution_count": 15,
   "id": "c419745b",
   "metadata": {},
   "outputs": [
    {
     "data": {
      "text/plain": [
       "Index(['timestamp', 'company', 'level', 'title', 'totalyearlycompensation',\n",
       "       'location', 'yearsofexperience', 'yearsatcompany', 'tag', 'basesalary',\n",
       "       'stockgrantvalue', 'bonus', 'gender', 'otherdetails', 'cityid', 'dmaid',\n",
       "       'rowNumber', 'Masters_Degree', 'Bachelors_Degree', 'Doctorate_Degree',\n",
       "       'Highschool', 'Some_College', 'Race_Asian', 'Race_White',\n",
       "       'Race_Two_Or_More', 'Race_Black', 'Race_Hispanic', 'Race', 'Education'],\n",
       "      dtype='object')"
      ]
     },
     "execution_count": 15,
     "metadata": {},
     "output_type": "execute_result"
    }
   ],
   "source": [
    "df.columns"
   ]
  },
  {
   "cell_type": "code",
   "execution_count": 32,
   "id": "1f20e9c9",
   "metadata": {},
   "outputs": [
    {
     "data": {
      "text/plain": [
       "Male                               35702\n",
       "NaN                                19540\n",
       "Female                              6999\n",
       "Other                                400\n",
       "Title: Senior Software Engineer        1\n",
       "Name: gender, dtype: int64"
      ]
     },
     "execution_count": 32,
     "metadata": {},
     "output_type": "execute_result"
    }
   ],
   "source": [
    "df['gender'].value_counts(dropna = False)"
   ]
  },
  {
   "cell_type": "code",
   "execution_count": 38,
   "id": "612886a5",
   "metadata": {},
   "outputs": [
    {
     "data": {
      "text/plain": [
       "NaN            40215\n",
       "Asian          11772\n",
       "White           8032\n",
       "Hispanic        1129\n",
       "Two Or More      804\n",
       "Black            690\n",
       "Name: Race, dtype: int64"
      ]
     },
     "execution_count": 38,
     "metadata": {},
     "output_type": "execute_result"
    }
   ],
   "source": [
    "df['Race'].value_counts(dropna = False)"
   ]
  },
  {
   "cell_type": "code",
   "execution_count": 37,
   "id": "8054cdfe",
   "metadata": {},
   "outputs": [
    {
     "data": {
      "text/plain": [
       "NaN                  32272\n",
       "Master's Degree      15391\n",
       "Bachelor's Degree    12601\n",
       "PhD                   1703\n",
       "Some College           355\n",
       "Highschool             320\n",
       "Name: Education, dtype: int64"
      ]
     },
     "execution_count": 37,
     "metadata": {},
     "output_type": "execute_result"
    }
   ],
   "source": [
    "df['Education'].value_counts(dropna =False)"
   ]
  },
  {
   "cell_type": "code",
   "execution_count": null,
   "id": "5bcb85eb",
   "metadata": {},
   "outputs": [],
   "source": []
  }
 ],
 "metadata": {
  "kernelspec": {
   "display_name": "Python 3 (ipykernel)",
   "language": "python",
   "name": "python3"
  },
  "language_info": {
   "codemirror_mode": {
    "name": "ipython",
    "version": 3
   },
   "file_extension": ".py",
   "mimetype": "text/x-python",
   "name": "python",
   "nbconvert_exporter": "python",
   "pygments_lexer": "ipython3",
   "version": "3.9.13"
  }
 },
 "nbformat": 4,
 "nbformat_minor": 5
}
